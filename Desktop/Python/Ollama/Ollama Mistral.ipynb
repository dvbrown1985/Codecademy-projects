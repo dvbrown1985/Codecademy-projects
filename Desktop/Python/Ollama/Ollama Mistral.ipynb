{
 "cells": [
  {
   "cell_type": "code",
   "execution_count": 26,
   "id": "5815e3cb",
   "metadata": {
    "scrolled": true
   },
   "outputs": [
    {
     "name": "stdout",
     "output_type": "stream",
     "text": [
      "Hi, I'm an Ollama LLM, using the mistral model. How may I help?: Tell me about large language models in less than 30 words\n",
      " Large Language Models (LLMs) are AI systems trained on vast text corpora, learning to generate human-like text based on given inputs. They can answer questions, write essays, translate languages, and even generate creative content."
     ]
    }
   ],
   "source": [
    "import ollama\n",
    "\n",
    "user_prompt = input(\"Hi, I'm an Ollama LLM, using the mistral model. How may I help?: \")\n",
    "\n",
    "stream = ollama.chat(\n",
    "    model='mistral',\n",
    "    messages=[{'role': 'user', 'content': user_prompt}],\n",
    "    stream=True\n",
    ")\n",
    "\n",
    "for chunk in stream:\n",
    "    print(chunk['message']['content'], end='', flush=True) #removed arg = end='',"
   ]
  }
 ],
 "metadata": {
  "kernelspec": {
   "display_name": "Python 3 (ipykernel)",
   "language": "python",
   "name": "python3"
  },
  "language_info": {
   "codemirror_mode": {
    "name": "ipython",
    "version": 3
   },
   "file_extension": ".py",
   "mimetype": "text/x-python",
   "name": "python",
   "nbconvert_exporter": "python",
   "pygments_lexer": "ipython3",
   "version": "3.11.7"
  }
 },
 "nbformat": 4,
 "nbformat_minor": 5
}
